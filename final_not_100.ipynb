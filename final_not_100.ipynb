{
 "cells": [
  {
   "cell_type": "code",
   "execution_count": 1,
   "id": "60c9eb10",
   "metadata": {},
   "outputs": [],
   "source": [
    "import pandas as pd"
   ]
  },
  {
   "cell_type": "code",
   "execution_count": 2,
   "id": "3afd3519",
   "metadata": {},
   "outputs": [
    {
     "name": "stdout",
     "output_type": "stream",
     "text": [
      " Datentr„ger in Laufwerk C: ist OS\n",
      " Volumeseriennummer: 4660-A944\n",
      "\n",
      " Verzeichnis von C:\\Users\\j-lan\\Desktop\\ironhack\\week6\\day1\\afternoon\\lab-not-hot-songs\n",
      "\n",
      "02.05.2023  10:57    <DIR>          .\n",
      "02.05.2023  10:43    <DIR>          ..\n",
      "02.05.2023  10:54    <DIR>          .ipynb_checkpoints\n",
      "02.05.2023  10:57            12.846 extracting_not_100_lab.ipynb\n",
      "02.05.2023  10:38            24.139 final_not_100 .ipynb\n",
      "02.05.2023  10:53    <DIR>          MillionSongSubset\n",
      "01.05.2023  22:03     1.981.914.968 millionsongsubset.tar.gz\n",
      "02.05.2023  10:57           602.710 not_hot.csv\n",
      "01.05.2023  18:42             1.635 README.md\n",
      "               5 Datei(en),  1.982.556.298 Bytes\n",
      "               4 Verzeichnis(se), 126.770.118.656 Bytes frei\n"
     ]
    }
   ],
   "source": [
    "!dir"
   ]
  },
  {
   "cell_type": "code",
   "execution_count": 5,
   "id": "650d95ce",
   "metadata": {},
   "outputs": [],
   "source": [
    "df1 = pd.read_csv(\"C:/Users/j-lan/Desktop/ironhack/week6/day1/morning/lab-web-scraping-single-page/top_100.csv\")\n",
    "df2 = pd.read_csv(\"not_hot.csv\")\n"
   ]
  },
  {
   "cell_type": "code",
   "execution_count": null,
   "id": "c4f18347",
   "metadata": {},
   "outputs": [],
   "source": []
  },
  {
   "cell_type": "code",
   "execution_count": 6,
   "id": "0d123a78",
   "metadata": {},
   "outputs": [
    {
     "data": {
      "text/html": [
       "<div>\n",
       "<style scoped>\n",
       "    .dataframe tbody tr th:only-of-type {\n",
       "        vertical-align: middle;\n",
       "    }\n",
       "\n",
       "    .dataframe tbody tr th {\n",
       "        vertical-align: top;\n",
       "    }\n",
       "\n",
       "    .dataframe thead th {\n",
       "        text-align: right;\n",
       "    }\n",
       "</style>\n",
       "<table border=\"1\" class=\"dataframe\">\n",
       "  <thead>\n",
       "    <tr style=\"text-align: right;\">\n",
       "      <th></th>\n",
       "      <th>Unnamed: 0</th>\n",
       "      <th>title</th>\n",
       "      <th>artists</th>\n",
       "    </tr>\n",
       "  </thead>\n",
       "  <tbody>\n",
       "    <tr>\n",
       "      <th>0</th>\n",
       "      <td>0</td>\n",
       "      <td>Kill Bill</td>\n",
       "      <td>SZA</td>\n",
       "    </tr>\n",
       "    <tr>\n",
       "      <th>1</th>\n",
       "      <td>1</td>\n",
       "      <td>Last Night</td>\n",
       "      <td>Morgan Wallen</td>\n",
       "    </tr>\n",
       "    <tr>\n",
       "      <th>2</th>\n",
       "      <td>2</td>\n",
       "      <td>Flowers</td>\n",
       "      <td>Miley Cyrus</td>\n",
       "    </tr>\n",
       "    <tr>\n",
       "      <th>3</th>\n",
       "      <td>3</td>\n",
       "      <td>Princess Diana</td>\n",
       "      <td>Ice Spice &amp; Nicki Minaj</td>\n",
       "    </tr>\n",
       "    <tr>\n",
       "      <th>4</th>\n",
       "      <td>4</td>\n",
       "      <td>Ella Baila Sola</td>\n",
       "      <td>Eslabon Armado X Peso Pluma</td>\n",
       "    </tr>\n",
       "    <tr>\n",
       "      <th>...</th>\n",
       "      <td>...</td>\n",
       "      <td>...</td>\n",
       "      <td>...</td>\n",
       "    </tr>\n",
       "    <tr>\n",
       "      <th>95</th>\n",
       "      <td>95</td>\n",
       "      <td>Memory Lane</td>\n",
       "      <td>Old Dominion</td>\n",
       "    </tr>\n",
       "    <tr>\n",
       "      <th>96</th>\n",
       "      <td>96</td>\n",
       "      <td>Love Again</td>\n",
       "      <td>The Kid LAROI</td>\n",
       "    </tr>\n",
       "    <tr>\n",
       "      <th>97</th>\n",
       "      <td>97</td>\n",
       "      <td>'98 Braves</td>\n",
       "      <td>Morgan Wallen</td>\n",
       "    </tr>\n",
       "    <tr>\n",
       "      <th>98</th>\n",
       "      <td>98</td>\n",
       "      <td>Di Que Si</td>\n",
       "      <td>Grupo Marca Registrada X Grupo Frontera</td>\n",
       "    </tr>\n",
       "    <tr>\n",
       "      <th>99</th>\n",
       "      <td>99</td>\n",
       "      <td>It Matters To Her</td>\n",
       "      <td>Scotty McCreery</td>\n",
       "    </tr>\n",
       "  </tbody>\n",
       "</table>\n",
       "<p>100 rows × 3 columns</p>\n",
       "</div>"
      ],
      "text/plain": [
       "    Unnamed: 0              title                                  artists\n",
       "0            0          Kill Bill                                      SZA\n",
       "1            1         Last Night                            Morgan Wallen\n",
       "2            2            Flowers                              Miley Cyrus\n",
       "3            3     Princess Diana                  Ice Spice & Nicki Minaj\n",
       "4            4    Ella Baila Sola              Eslabon Armado X Peso Pluma\n",
       "..         ...                ...                                      ...\n",
       "95          95        Memory Lane                             Old Dominion\n",
       "96          96         Love Again                            The Kid LAROI\n",
       "97          97         '98 Braves                            Morgan Wallen\n",
       "98          98          Di Que Si  Grupo Marca Registrada X Grupo Frontera\n",
       "99          99  It Matters To Her                          Scotty McCreery\n",
       "\n",
       "[100 rows x 3 columns]"
      ]
     },
     "execution_count": 6,
     "metadata": {},
     "output_type": "execute_result"
    }
   ],
   "source": [
    "df1"
   ]
  },
  {
   "cell_type": "code",
   "execution_count": 7,
   "id": "035d5f5d",
   "metadata": {},
   "outputs": [
    {
     "data": {
      "text/html": [
       "<div>\n",
       "<style scoped>\n",
       "    .dataframe tbody tr th:only-of-type {\n",
       "        vertical-align: middle;\n",
       "    }\n",
       "\n",
       "    .dataframe tbody tr th {\n",
       "        vertical-align: top;\n",
       "    }\n",
       "\n",
       "    .dataframe thead th {\n",
       "        text-align: right;\n",
       "    }\n",
       "</style>\n",
       "<table border=\"1\" class=\"dataframe\">\n",
       "  <thead>\n",
       "    <tr style=\"text-align: right;\">\n",
       "      <th></th>\n",
       "      <th>Unnamed: 0</th>\n",
       "      <th>song_id</th>\n",
       "      <th>artist_name</th>\n",
       "      <th>title</th>\n",
       "    </tr>\n",
       "  </thead>\n",
       "  <tbody>\n",
       "    <tr>\n",
       "      <th>0</th>\n",
       "      <td>0</td>\n",
       "      <td>SOMZWCG12A8C13C480</td>\n",
       "      <td>Casual</td>\n",
       "      <td>I Didn't Mean To</td>\n",
       "    </tr>\n",
       "    <tr>\n",
       "      <th>1</th>\n",
       "      <td>1</td>\n",
       "      <td>SOCIWDW12A8C13D406</td>\n",
       "      <td>The Box Tops</td>\n",
       "      <td>Soul Deep</td>\n",
       "    </tr>\n",
       "    <tr>\n",
       "      <th>2</th>\n",
       "      <td>2</td>\n",
       "      <td>SOXVLOJ12AB0189215</td>\n",
       "      <td>Sonora Santanera</td>\n",
       "      <td>Amor De Cabaret</td>\n",
       "    </tr>\n",
       "    <tr>\n",
       "      <th>3</th>\n",
       "      <td>3</td>\n",
       "      <td>SONHOTT12A8C13493C</td>\n",
       "      <td>Adam Ant</td>\n",
       "      <td>Something Girls</td>\n",
       "    </tr>\n",
       "    <tr>\n",
       "      <th>4</th>\n",
       "      <td>4</td>\n",
       "      <td>SOFSOCN12A8C143F5D</td>\n",
       "      <td>Gob</td>\n",
       "      <td>Face the Ashes</td>\n",
       "    </tr>\n",
       "    <tr>\n",
       "      <th>...</th>\n",
       "      <td>...</td>\n",
       "      <td>...</td>\n",
       "      <td>...</td>\n",
       "      <td>...</td>\n",
       "    </tr>\n",
       "    <tr>\n",
       "      <th>9995</th>\n",
       "      <td>9995</td>\n",
       "      <td>SOLXXPY12A67ADABA0</td>\n",
       "      <td>Moonspell</td>\n",
       "      <td>The Hanged Man</td>\n",
       "    </tr>\n",
       "    <tr>\n",
       "      <th>9996</th>\n",
       "      <td>9996</td>\n",
       "      <td>SOAYONI12A6D4F85C8</td>\n",
       "      <td>Danny Williams</td>\n",
       "      <td>The Wonderful World Of The Young</td>\n",
       "    </tr>\n",
       "    <tr>\n",
       "      <th>9997</th>\n",
       "      <td>9997</td>\n",
       "      <td>SOJZLAJ12AB017E8A2</td>\n",
       "      <td>Winston Reedy</td>\n",
       "      <td>Sentimental Man</td>\n",
       "    </tr>\n",
       "    <tr>\n",
       "      <th>9998</th>\n",
       "      <td>9998</td>\n",
       "      <td>SORZSCJ12A8C132446</td>\n",
       "      <td>Myrick \"Freeze\" Guillory</td>\n",
       "      <td>Zydeco In D-Minor</td>\n",
       "    </tr>\n",
       "    <tr>\n",
       "      <th>9999</th>\n",
       "      <td>9999</td>\n",
       "      <td>SOFAOMI12A6D4FA2D8</td>\n",
       "      <td>Seventh Day Slumber</td>\n",
       "      <td>Shattered Life</td>\n",
       "    </tr>\n",
       "  </tbody>\n",
       "</table>\n",
       "<p>10000 rows × 4 columns</p>\n",
       "</div>"
      ],
      "text/plain": [
       "      Unnamed: 0             song_id               artist_name  \\\n",
       "0              0  SOMZWCG12A8C13C480                    Casual   \n",
       "1              1  SOCIWDW12A8C13D406              The Box Tops   \n",
       "2              2  SOXVLOJ12AB0189215          Sonora Santanera   \n",
       "3              3  SONHOTT12A8C13493C                  Adam Ant   \n",
       "4              4  SOFSOCN12A8C143F5D                       Gob   \n",
       "...          ...                 ...                       ...   \n",
       "9995        9995  SOLXXPY12A67ADABA0                 Moonspell   \n",
       "9996        9996  SOAYONI12A6D4F85C8            Danny Williams   \n",
       "9997        9997  SOJZLAJ12AB017E8A2             Winston Reedy   \n",
       "9998        9998  SORZSCJ12A8C132446  Myrick \"Freeze\" Guillory   \n",
       "9999        9999  SOFAOMI12A6D4FA2D8       Seventh Day Slumber   \n",
       "\n",
       "                                 title  \n",
       "0                     I Didn't Mean To  \n",
       "1                            Soul Deep  \n",
       "2                      Amor De Cabaret  \n",
       "3                      Something Girls  \n",
       "4                       Face the Ashes  \n",
       "...                                ...  \n",
       "9995                    The Hanged Man  \n",
       "9996  The Wonderful World Of The Young  \n",
       "9997                   Sentimental Man  \n",
       "9998                 Zydeco In D-Minor  \n",
       "9999                    Shattered Life  \n",
       "\n",
       "[10000 rows x 4 columns]"
      ]
     },
     "execution_count": 7,
     "metadata": {},
     "output_type": "execute_result"
    }
   ],
   "source": [
    "df2"
   ]
  },
  {
   "cell_type": "code",
   "execution_count": 8,
   "id": "0f786f1c",
   "metadata": {},
   "outputs": [
    {
     "data": {
      "text/plain": [
       "(100, 3)"
      ]
     },
     "execution_count": 8,
     "metadata": {},
     "output_type": "execute_result"
    }
   ],
   "source": [
    "df1.shape"
   ]
  },
  {
   "cell_type": "code",
   "execution_count": 9,
   "id": "fab6653e",
   "metadata": {},
   "outputs": [
    {
     "data": {
      "text/plain": [
       "(10000, 4)"
      ]
     },
     "execution_count": 9,
     "metadata": {},
     "output_type": "execute_result"
    }
   ],
   "source": [
    "df2.shape"
   ]
  },
  {
   "cell_type": "code",
   "execution_count": 10,
   "id": "3d28c051",
   "metadata": {},
   "outputs": [
    {
     "data": {
      "text/plain": [
       "Index(['Unnamed: 0', 'title', 'artists'], dtype='object')"
      ]
     },
     "execution_count": 10,
     "metadata": {},
     "output_type": "execute_result"
    }
   ],
   "source": [
    "df1.columns"
   ]
  },
  {
   "cell_type": "code",
   "execution_count": 11,
   "id": "a6b5a08d",
   "metadata": {},
   "outputs": [
    {
     "data": {
      "text/plain": [
       "Index(['Unnamed: 0', 'song_id', 'artist_name', 'title'], dtype='object')"
      ]
     },
     "execution_count": 11,
     "metadata": {},
     "output_type": "execute_result"
    }
   ],
   "source": [
    "df2.columns"
   ]
  },
  {
   "cell_type": "code",
   "execution_count": null,
   "id": "f6527012",
   "metadata": {},
   "outputs": [],
   "source": []
  },
  {
   "cell_type": "code",
   "execution_count": 12,
   "id": "7847b218",
   "metadata": {},
   "outputs": [],
   "source": [
    "#df2.drop(['Unnamed: 0', 'song_id'], axis=1, inplace=True)\n"
   ]
  },
  {
   "cell_type": "code",
   "execution_count": 13,
   "id": "14cfe375",
   "metadata": {},
   "outputs": [
    {
     "data": {
      "text/html": [
       "<div>\n",
       "<style scoped>\n",
       "    .dataframe tbody tr th:only-of-type {\n",
       "        vertical-align: middle;\n",
       "    }\n",
       "\n",
       "    .dataframe tbody tr th {\n",
       "        vertical-align: top;\n",
       "    }\n",
       "\n",
       "    .dataframe thead th {\n",
       "        text-align: right;\n",
       "    }\n",
       "</style>\n",
       "<table border=\"1\" class=\"dataframe\">\n",
       "  <thead>\n",
       "    <tr style=\"text-align: right;\">\n",
       "      <th></th>\n",
       "      <th>Unnamed: 0</th>\n",
       "      <th>song_id</th>\n",
       "      <th>artist_name</th>\n",
       "      <th>title</th>\n",
       "    </tr>\n",
       "  </thead>\n",
       "  <tbody>\n",
       "    <tr>\n",
       "      <th>0</th>\n",
       "      <td>0</td>\n",
       "      <td>SOMZWCG12A8C13C480</td>\n",
       "      <td>Casual</td>\n",
       "      <td>I Didn't Mean To</td>\n",
       "    </tr>\n",
       "    <tr>\n",
       "      <th>1</th>\n",
       "      <td>1</td>\n",
       "      <td>SOCIWDW12A8C13D406</td>\n",
       "      <td>The Box Tops</td>\n",
       "      <td>Soul Deep</td>\n",
       "    </tr>\n",
       "    <tr>\n",
       "      <th>2</th>\n",
       "      <td>2</td>\n",
       "      <td>SOXVLOJ12AB0189215</td>\n",
       "      <td>Sonora Santanera</td>\n",
       "      <td>Amor De Cabaret</td>\n",
       "    </tr>\n",
       "    <tr>\n",
       "      <th>3</th>\n",
       "      <td>3</td>\n",
       "      <td>SONHOTT12A8C13493C</td>\n",
       "      <td>Adam Ant</td>\n",
       "      <td>Something Girls</td>\n",
       "    </tr>\n",
       "    <tr>\n",
       "      <th>4</th>\n",
       "      <td>4</td>\n",
       "      <td>SOFSOCN12A8C143F5D</td>\n",
       "      <td>Gob</td>\n",
       "      <td>Face the Ashes</td>\n",
       "    </tr>\n",
       "    <tr>\n",
       "      <th>...</th>\n",
       "      <td>...</td>\n",
       "      <td>...</td>\n",
       "      <td>...</td>\n",
       "      <td>...</td>\n",
       "    </tr>\n",
       "    <tr>\n",
       "      <th>9995</th>\n",
       "      <td>9995</td>\n",
       "      <td>SOLXXPY12A67ADABA0</td>\n",
       "      <td>Moonspell</td>\n",
       "      <td>The Hanged Man</td>\n",
       "    </tr>\n",
       "    <tr>\n",
       "      <th>9996</th>\n",
       "      <td>9996</td>\n",
       "      <td>SOAYONI12A6D4F85C8</td>\n",
       "      <td>Danny Williams</td>\n",
       "      <td>The Wonderful World Of The Young</td>\n",
       "    </tr>\n",
       "    <tr>\n",
       "      <th>9997</th>\n",
       "      <td>9997</td>\n",
       "      <td>SOJZLAJ12AB017E8A2</td>\n",
       "      <td>Winston Reedy</td>\n",
       "      <td>Sentimental Man</td>\n",
       "    </tr>\n",
       "    <tr>\n",
       "      <th>9998</th>\n",
       "      <td>9998</td>\n",
       "      <td>SORZSCJ12A8C132446</td>\n",
       "      <td>Myrick \"Freeze\" Guillory</td>\n",
       "      <td>Zydeco In D-Minor</td>\n",
       "    </tr>\n",
       "    <tr>\n",
       "      <th>9999</th>\n",
       "      <td>9999</td>\n",
       "      <td>SOFAOMI12A6D4FA2D8</td>\n",
       "      <td>Seventh Day Slumber</td>\n",
       "      <td>Shattered Life</td>\n",
       "    </tr>\n",
       "  </tbody>\n",
       "</table>\n",
       "<p>10000 rows × 4 columns</p>\n",
       "</div>"
      ],
      "text/plain": [
       "      Unnamed: 0             song_id               artist_name  \\\n",
       "0              0  SOMZWCG12A8C13C480                    Casual   \n",
       "1              1  SOCIWDW12A8C13D406              The Box Tops   \n",
       "2              2  SOXVLOJ12AB0189215          Sonora Santanera   \n",
       "3              3  SONHOTT12A8C13493C                  Adam Ant   \n",
       "4              4  SOFSOCN12A8C143F5D                       Gob   \n",
       "...          ...                 ...                       ...   \n",
       "9995        9995  SOLXXPY12A67ADABA0                 Moonspell   \n",
       "9996        9996  SOAYONI12A6D4F85C8            Danny Williams   \n",
       "9997        9997  SOJZLAJ12AB017E8A2             Winston Reedy   \n",
       "9998        9998  SORZSCJ12A8C132446  Myrick \"Freeze\" Guillory   \n",
       "9999        9999  SOFAOMI12A6D4FA2D8       Seventh Day Slumber   \n",
       "\n",
       "                                 title  \n",
       "0                     I Didn't Mean To  \n",
       "1                            Soul Deep  \n",
       "2                      Amor De Cabaret  \n",
       "3                      Something Girls  \n",
       "4                       Face the Ashes  \n",
       "...                                ...  \n",
       "9995                    The Hanged Man  \n",
       "9996  The Wonderful World Of The Young  \n",
       "9997                   Sentimental Man  \n",
       "9998                 Zydeco In D-Minor  \n",
       "9999                    Shattered Life  \n",
       "\n",
       "[10000 rows x 4 columns]"
      ]
     },
     "execution_count": 13,
     "metadata": {},
     "output_type": "execute_result"
    }
   ],
   "source": [
    "df2"
   ]
  },
  {
   "cell_type": "code",
   "execution_count": null,
   "id": "532512a1",
   "metadata": {},
   "outputs": [],
   "source": []
  },
  {
   "cell_type": "code",
   "execution_count": 14,
   "id": "adc5d176",
   "metadata": {},
   "outputs": [],
   "source": [
    "df1.drop(['Unnamed: 0'], axis=1, inplace=True)"
   ]
  },
  {
   "cell_type": "code",
   "execution_count": 15,
   "id": "e9906087",
   "metadata": {},
   "outputs": [
    {
     "data": {
      "text/plain": [
       "Index(['title', 'artists'], dtype='object')"
      ]
     },
     "execution_count": 15,
     "metadata": {},
     "output_type": "execute_result"
    }
   ],
   "source": [
    "df1.columns"
   ]
  },
  {
   "cell_type": "code",
   "execution_count": null,
   "id": "2845c541",
   "metadata": {},
   "outputs": [],
   "source": []
  },
  {
   "cell_type": "code",
   "execution_count": 16,
   "id": "ee0ed4ff",
   "metadata": {},
   "outputs": [],
   "source": [
    "# Rename the 'artist' column to 'artist_name'\n",
    "df1 = df1.rename(columns={'artists': 'artist_name'})\n",
    "\n",
    "# Select the columns in the desired order\n",
    "df1 = df1[['artist_name', 'title']]\n"
   ]
  },
  {
   "cell_type": "code",
   "execution_count": 17,
   "id": "b68046c0",
   "metadata": {},
   "outputs": [
    {
     "data": {
      "text/html": [
       "<div>\n",
       "<style scoped>\n",
       "    .dataframe tbody tr th:only-of-type {\n",
       "        vertical-align: middle;\n",
       "    }\n",
       "\n",
       "    .dataframe tbody tr th {\n",
       "        vertical-align: top;\n",
       "    }\n",
       "\n",
       "    .dataframe thead th {\n",
       "        text-align: right;\n",
       "    }\n",
       "</style>\n",
       "<table border=\"1\" class=\"dataframe\">\n",
       "  <thead>\n",
       "    <tr style=\"text-align: right;\">\n",
       "      <th></th>\n",
       "      <th>artist_name</th>\n",
       "      <th>title</th>\n",
       "    </tr>\n",
       "  </thead>\n",
       "  <tbody>\n",
       "    <tr>\n",
       "      <th>0</th>\n",
       "      <td>SZA</td>\n",
       "      <td>Kill Bill</td>\n",
       "    </tr>\n",
       "    <tr>\n",
       "      <th>1</th>\n",
       "      <td>Morgan Wallen</td>\n",
       "      <td>Last Night</td>\n",
       "    </tr>\n",
       "    <tr>\n",
       "      <th>2</th>\n",
       "      <td>Miley Cyrus</td>\n",
       "      <td>Flowers</td>\n",
       "    </tr>\n",
       "    <tr>\n",
       "      <th>3</th>\n",
       "      <td>Ice Spice &amp; Nicki Minaj</td>\n",
       "      <td>Princess Diana</td>\n",
       "    </tr>\n",
       "    <tr>\n",
       "      <th>4</th>\n",
       "      <td>Eslabon Armado X Peso Pluma</td>\n",
       "      <td>Ella Baila Sola</td>\n",
       "    </tr>\n",
       "    <tr>\n",
       "      <th>...</th>\n",
       "      <td>...</td>\n",
       "      <td>...</td>\n",
       "    </tr>\n",
       "    <tr>\n",
       "      <th>95</th>\n",
       "      <td>Old Dominion</td>\n",
       "      <td>Memory Lane</td>\n",
       "    </tr>\n",
       "    <tr>\n",
       "      <th>96</th>\n",
       "      <td>The Kid LAROI</td>\n",
       "      <td>Love Again</td>\n",
       "    </tr>\n",
       "    <tr>\n",
       "      <th>97</th>\n",
       "      <td>Morgan Wallen</td>\n",
       "      <td>'98 Braves</td>\n",
       "    </tr>\n",
       "    <tr>\n",
       "      <th>98</th>\n",
       "      <td>Grupo Marca Registrada X Grupo Frontera</td>\n",
       "      <td>Di Que Si</td>\n",
       "    </tr>\n",
       "    <tr>\n",
       "      <th>99</th>\n",
       "      <td>Scotty McCreery</td>\n",
       "      <td>It Matters To Her</td>\n",
       "    </tr>\n",
       "  </tbody>\n",
       "</table>\n",
       "<p>100 rows × 2 columns</p>\n",
       "</div>"
      ],
      "text/plain": [
       "                                artist_name              title\n",
       "0                                       SZA          Kill Bill\n",
       "1                             Morgan Wallen         Last Night\n",
       "2                               Miley Cyrus            Flowers\n",
       "3                   Ice Spice & Nicki Minaj     Princess Diana\n",
       "4               Eslabon Armado X Peso Pluma    Ella Baila Sola\n",
       "..                                      ...                ...\n",
       "95                             Old Dominion        Memory Lane\n",
       "96                            The Kid LAROI         Love Again\n",
       "97                            Morgan Wallen         '98 Braves\n",
       "98  Grupo Marca Registrada X Grupo Frontera          Di Que Si\n",
       "99                          Scotty McCreery  It Matters To Her\n",
       "\n",
       "[100 rows x 2 columns]"
      ]
     },
     "execution_count": 17,
     "metadata": {},
     "output_type": "execute_result"
    }
   ],
   "source": [
    "df1"
   ]
  },
  {
   "cell_type": "code",
   "execution_count": null,
   "id": "e72789ec",
   "metadata": {},
   "outputs": [],
   "source": []
  },
  {
   "cell_type": "code",
   "execution_count": 18,
   "id": "aead7f66",
   "metadata": {},
   "outputs": [],
   "source": [
    "# Merge the dataframes and indicate which rows exist only in df2\n",
    "merged = pd.merge(df1, df2, on=['artist_name', 'title'], how='outer', indicator=True)\n",
    "\n",
    "# Filter the merged dataframe to get only the rows that exist in df2\n",
    "df3 = merged[merged['_merge'] == 'right_only'][['artist_name', 'title']]"
   ]
  },
  {
   "cell_type": "code",
   "execution_count": 19,
   "id": "2ecdb8c7",
   "metadata": {},
   "outputs": [
    {
     "data": {
      "text/plain": [
       "(10000, 2)"
      ]
     },
     "execution_count": 19,
     "metadata": {},
     "output_type": "execute_result"
    }
   ],
   "source": [
    "df3.shape"
   ]
  },
  {
   "cell_type": "code",
   "execution_count": 20,
   "id": "b7c3a439",
   "metadata": {},
   "outputs": [],
   "source": [
    "df_new = df3.sample(n=3000, random_state=42) # n is the number of rows you want to select and random_state ensures reproducibility\n"
   ]
  },
  {
   "cell_type": "code",
   "execution_count": 21,
   "id": "c0981cb5",
   "metadata": {},
   "outputs": [
    {
     "data": {
      "text/plain": [
       "(3000, 2)"
      ]
     },
     "execution_count": 21,
     "metadata": {},
     "output_type": "execute_result"
    }
   ],
   "source": [
    "df_new.shape"
   ]
  },
  {
   "cell_type": "code",
   "execution_count": 22,
   "id": "65cd38ca",
   "metadata": {},
   "outputs": [],
   "source": [
    "df_new.to_csv('final_not_hot.csv')"
   ]
  },
  {
   "cell_type": "code",
   "execution_count": null,
   "id": "bbabbbda",
   "metadata": {},
   "outputs": [],
   "source": []
  }
 ],
 "metadata": {
  "kernelspec": {
   "display_name": "Python 3 (ipykernel)",
   "language": "python",
   "name": "python3"
  },
  "language_info": {
   "codemirror_mode": {
    "name": "ipython",
    "version": 3
   },
   "file_extension": ".py",
   "mimetype": "text/x-python",
   "name": "python",
   "nbconvert_exporter": "python",
   "pygments_lexer": "ipython3",
   "version": "3.9.13"
  }
 },
 "nbformat": 4,
 "nbformat_minor": 5
}
